{
  "nbformat": 4,
  "nbformat_minor": 0,
  "metadata": {
    "colab": {
      "provenance": []
    },
    "kernelspec": {
      "name": "python3",
      "display_name": "Python 3"
    },
    "language_info": {
      "name": "python"
    }
  },
  "cells": [
    {
      "cell_type": "code",
      "source": [
        "from transformers import MBartForConditionalGeneration, MBart50TokenizerFast"
      ],
      "metadata": {
        "id": "jY5Y1Gx2IW8B"
      },
      "execution_count": 18,
      "outputs": []
    },
    {
      "cell_type": "code",
      "source": [
        "model_name = \"facebook/mbart-large-50-many-to-many-mmt\"\n",
        "tokenizer = MBart50TokenizerFast.from_pretrained(model_name)\n",
        "model = MBartForConditionalGeneration.from_pretrained(model_name)\n"
      ],
      "metadata": {
        "id": "g40gR16mJDX5"
      },
      "execution_count": 19,
      "outputs": []
    },
    {
      "cell_type": "code",
      "source": [
        "langs = {\n",
        "    \"Hindi\": \"hi_IN\",\n",
        "    \"Telugu\": \"te_IN\",\n",
        "    \"Tamil\": \"ta_IN\",\n",
        "    \"French\": \"fr_XX\",\n",
        "    \"German\": \"de_DE\",\n",
        "    \"Spanish\": \"es_XX\",\n",
        "    \"Japanese\": \"ja_XX\",\n",
        "    \"Korean\": \"ko_KR\",\n",
        "    \"Chinese\": \"zh_CN\",\n",
        "    \"Arabic\": \"ar_AR\"\n",
        "}"
      ],
      "metadata": {
        "id": "Nbik2Sy-JFKc"
      },
      "execution_count": 20,
      "outputs": []
    },
    {
      "cell_type": "code",
      "source": [
        "print(\" Supported Target Languages:\")\n",
        "for idx, lang in enumerate(langs.keys(), start=1):\n",
        "    print(f\"{idx}. {lang}\")\n",
        "\n",
        "\n",
        "text = input(\"\\n Enter English text to translate: \")\n",
        "\n",
        "try:\n",
        "    choice = int(input(\" Choose target language (enter the number): \"))\n",
        "    if 1 <= choice <= len(langs):\n",
        "        target_lang = list(langs.items())[choice - 1]\n",
        "        lang_name, lang_code = target_lang\n",
        "\n",
        "        # Set source language and tokenize\n",
        "        tokenizer.src_lang = \"en_XX\"\n",
        "        encoded = tokenizer(text, return_tensors=\"pt\")\n",
        "\n",
        "        # Generate translation\n",
        "        generated = model.generate(\n",
        "            **encoded,\n",
        "            forced_bos_token_id=tokenizer.lang_code_to_id[lang_code]\n",
        "        )\n",
        "        translated = tokenizer.batch_decode(generated, skip_special_tokens=True)[0]\n",
        "\n",
        "        print(f\"\\n Translated to {lang_name}: {translated}\")\n",
        "    else:\n",
        "        print(\"  Invalid language choice.\")\n",
        "except ValueError:\n",
        "    print(\" Please enter a valid number.\")"
      ],
      "metadata": {
        "colab": {
          "base_uri": "https://localhost:8080/"
        },
        "id": "tsdpA4BBJLQJ",
        "outputId": "3d8e0ad6-08a2-4064-fc8b-cb66b3da6136"
      },
      "execution_count": 23,
      "outputs": [
        {
          "output_type": "stream",
          "name": "stdout",
          "text": [
            " Supported Target Languages:\n",
            "1. Hindi\n",
            "2. Telugu\n",
            "3. Tamil\n",
            "4. French\n",
            "5. German\n",
            "6. Spanish\n",
            "7. Japanese\n",
            "8. Korean\n",
            "9. Chinese\n",
            "10. Arabic\n",
            "\n",
            " Enter English text to translate: I like listening to music\n",
            " Choose target language (enter the number): 1\n",
            "\n",
            " Translated to Hindi: मुझे संगीत सुनना पसंद है।\n"
          ]
        }
      ]
    },
    {
      "cell_type": "code",
      "source": [],
      "metadata": {
        "id": "ea7t1W3rJNka"
      },
      "execution_count": null,
      "outputs": []
    }
  ]
}